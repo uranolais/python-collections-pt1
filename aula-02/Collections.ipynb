{
 "cells": [
  {
   "cell_type": "code",
   "execution_count": 12,
   "metadata": {},
   "outputs": [
    {
     "name": "stdout",
     "output_type": "stream",
     "text": [
      "(>>Código 15 Saldo: 0<<)\n",
      "(>>Código 15 Saldo: 500<<)\n",
      "(>>Código 47685 Saldo: 1000<<)\n",
      "[<__main__.ContaCorrente object at 0x0000025DFECD3DF0>, <__main__.ContaCorrente object at 0x0000025DFECD3EE0>]\n",
      "(>>Código 15 Saldo: 500<<)\n",
      "(>>Código 47685 Saldo: 1000<<)\n",
      "(>>Código 15 Saldo: 600<<)\n",
      "(>>Código 15 Saldo: 600<<)\n"
     ]
    }
   ],
   "source": [
    "class ContaCorrente:\n",
    "    def __init__(self,codigo):\n",
    "        self.codigo = codigo\n",
    "        self.saldo = 0\n",
    "    def deposita(self,valor):\n",
    "        self.saldo += valor\n",
    "    def __str__(self):\n",
    "        return \"(>>Código {} Saldo: {}<<)\".format(self.codigo, self.saldo)\n",
    "\n",
    "conta_do_gui = ContaCorrente(15)\n",
    "print(conta_do_gui)\n",
    "conta_do_gui.deposita(500)\n",
    "print(conta_do_gui)\n",
    "\n",
    "conta_da_dani = ContaCorrente(47685)\n",
    "conta_da_dani.deposita(1000)\n",
    "print(conta_da_dani)\n",
    "\n",
    "contas = [conta_do_gui, conta_da_dani]\n",
    "print(contas)\n",
    "for conta in contas:\n",
    "    print(conta)\n",
    "\n",
    "contas = [conta_do_gui, conta_da_dani, conta_do_gui]\n",
    "conta_do_gui.deposita(100)\n",
    "print(contas[0])\n",
    "print(conta_do_gui)"
   ]
  },
  {
   "cell_type": "code",
   "execution_count": null,
   "metadata": {},
   "outputs": [],
   "source": [
    "class ContaCorrente:\n",
    "    def __init__(self,codigo):\n",
    "        self.codigo = codigo\n",
    "        self.saldo = 0\n",
    "    def deposita(self,valor):\n",
    "        self.saldo += valor\n",
    "    def __str__(self):\n",
    "        return \"(>>Código {} Saldo: {}<<)\".format(self.codigo, self.saldo)\n",
    "\n",
    "def deposita_para_todas(contas):\n",
    "    for conta in contas:\n",
    "        conta.deposita(100)\n",
    "\n",
    "conta_do_gui = ContaCorrente(15)\n",
    "conta_da_dani = ContaCorrente(47685)\n",
    "contas = [conta_do_gui, conta_da_dani]\n",
    "print(contas[0],contas[1])\n",
    "deposita_para_todas(contas)\n",
    "print(contas[0],contas[1])"
   ]
  },
  {
   "cell_type": "code",
   "execution_count": null,
   "metadata": {},
   "outputs": [],
   "source": [
    "guilherme = ('Guilherme',37,1981)\n",
    "daniela = ('Daniela',31, 1987)\n",
    "# paulo = (39, 'Paulo',1979)\n",
    "\n",
    "conta_do_gui = (15,100)\n",
    "# conta_do_gui[1]+=100\n",
    "def deposita(conta):\n",
    "    novo_saldo = conta[1] + 100\n",
    "    codigo = conta[0]\n",
    "    return (codigo,novo_saldo)\n",
    "\n",
    "#reatribuindo valores\n",
    "print(deposita(conta_do_gui))\n",
    "print(conta_do_gui)\n",
    "conta_do_gui = deposita(conta_do_gui)\n",
    "print(conta_do_gui)\n"
   ]
  },
  {
   "cell_type": "code",
   "execution_count": null,
   "metadata": {},
   "outputs": [],
   "source": [
    "#Tuplas na Lista\n",
    "guilherme = ('Guilherme',37,1981)\n",
    "daniela = ('Daniela',31, 1987)\n",
    "usuarios = [guilherme, daniela]\n",
    "print(usuarios)\n",
    "usuarios.append(('Paulo',39,1979))\n",
    "print(usuarios)"
   ]
  }
 ],
 "metadata": {
  "kernelspec": {
   "display_name": "Python 3",
   "language": "python",
   "name": "python3"
  },
  "language_info": {
   "codemirror_mode": {
    "name": "ipython",
    "version": 3
   },
   "file_extension": ".py",
   "mimetype": "text/x-python",
   "name": "python",
   "nbconvert_exporter": "python",
   "pygments_lexer": "ipython3",
   "version": "3.10.8"
  },
  "orig_nbformat": 4,
  "vscode": {
   "interpreter": {
    "hash": "6c366ef536ff4611b0ac29bb2c553d3a1821187d7d4be00f2a954e2b6ee0ff5b"
   }
  }
 },
 "nbformat": 4,
 "nbformat_minor": 2
}
