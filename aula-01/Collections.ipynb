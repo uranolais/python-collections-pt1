{
 "cells": [
  {
   "cell_type": "code",
   "execution_count": null,
   "metadata": {},
   "outputs": [],
   "source": [
    "idade1 = 39\n",
    "idade2 = 30\n",
    "idade3 = 27\n",
    "idade4 = 18\n",
    "print(idade1)\n",
    "print(idade2)\n",
    "print(idade3)\n",
    "print(idade4)"
   ]
  },
  {
   "cell_type": "code",
   "execution_count": null,
   "metadata": {},
   "outputs": [],
   "source": [
    "idades = [39,30,27,18]\n",
    "print(type(idades))\n",
    "print(len(idades))\n",
    "print(idades[0])\n",
    "idades.append(15)\n",
    "print(idades[4])\n",
    "print(idades)\n",
    "for idade in idades:\n",
    "    print(idade)\n",
    "idades.remove(30)#remove só o primeiro\n",
    "print(idades)\n",
    "idades.clear()\n",
    "print(idades)"
   ]
  },
  {
   "cell_type": "code",
   "execution_count": null,
   "metadata": {},
   "outputs": [],
   "source": [
    "idades = [39,30,27,18,15]\n",
    "print(28 in idades)\n",
    "print(15 in idades)\n",
    "if 15 in idades:\n",
    "    idades.remove(15)\n",
    "    print(idades)\n",
    "idades.insert(0,20)#adicionar o 20 na posição 0\n",
    "print(idades)"
   ]
  },
  {
   "cell_type": "code",
   "execution_count": null,
   "metadata": {},
   "outputs": [],
   "source": [
    "idades = [20,39,18]\n",
    "idades.append((27,19))\n",
    "print(idades)\n",
    "for elemento in idades:\n",
    "    print(\"Recebi o elemento: \",elemento)\n"
   ]
  },
  {
   "cell_type": "code",
   "execution_count": null,
   "metadata": {},
   "outputs": [],
   "source": [
    "idades = [20,39,18]\n",
    "idades.extend((27,19))\n",
    "for elemento in idades:\n",
    "    print(\"Recebi o elemento: \",elemento)\n",
    "for idade in idades:\n",
    "    print(idade+1)"
   ]
  },
  {
   "cell_type": "code",
   "execution_count": null,
   "metadata": {},
   "outputs": [],
   "source": [
    "idades = [20,39,18,27,19]\n",
    "idades_no_ano_que_vem = []\n",
    "for idade in idades:\n",
    "    idades_no_ano_que_vem.append(idade+1)\n",
    "print(idades_no_ano_que_vem)\n"
   ]
  },
  {
   "cell_type": "code",
   "execution_count": null,
   "metadata": {},
   "outputs": [],
   "source": [
    "idades = [20,39,18,27,19]\n",
    "idades_no_ano_que_vem = [(idade+1) for idade in idades]#para todas as idades na lista, adicione 1\n",
    "print(idades_no_ano_que_vem)\n",
    "\n",
    "novas_idades = [idade for idade in idades if idade > 21]#mantem o idade (else, apaga idade)\n",
    "print(novas_idades)\n",
    "\n",
    "def proximo_ano(idade):\n",
    "    return idade+1\n",
    "\n",
    "ano_que_vem = [proximo_ano(idade) for idade in idades if idade > 21]#mantem o idade (else, apaga idade)\n",
    "print(ano_que_vem)"
   ]
  },
  {
   "cell_type": "code",
   "execution_count": null,
   "metadata": {},
   "outputs": [],
   "source": [
    "def faz_processamento_de_visualizacao(lista):\n",
    "    print(len(lista))\n",
    "    lista.append(13)\n",
    "idades = [16,21,29,56,43]\n",
    "faz_processamento_de_visualizacao(idades)\n",
    "print(idades)"
   ]
  },
  {
   "cell_type": "code",
   "execution_count": null,
   "metadata": {},
   "outputs": [],
   "source": [
    "def faz_processamento_de_visualizacao(lista = []):\n",
    "    print(len(lista))\n",
    "    lista.append(13)\n",
    "    print(lista)\n",
    "faz_processamento_de_visualizacao()\n",
    "faz_processamento_de_visualizacao()\n",
    "faz_processamento_de_visualizacao()\n",
    "faz_processamento_de_visualizacao()\n",
    "\n",
    "#Boa prática\n",
    "def faz_processamento_de_visualizacao(lista = None):\n",
    "    if lista == None:\n",
    "        lista = list()\n",
    "    print(len(lista))\n",
    "    lista.append(13)\n",
    "    print(lista)"
   ]
  }
 ],
 "metadata": {
  "kernelspec": {
   "display_name": "Python 3.10.8 64-bit",
   "language": "python",
   "name": "python3"
  },
  "language_info": {
   "codemirror_mode": {
    "name": "ipython",
    "version": 3
   },
   "file_extension": ".py",
   "mimetype": "text/x-python",
   "name": "python",
   "nbconvert_exporter": "python",
   "pygments_lexer": "ipython3",
   "version": "3.10.8"
  },
  "orig_nbformat": 4,
  "vscode": {
   "interpreter": {
    "hash": "6c366ef536ff4611b0ac29bb2c553d3a1821187d7d4be00f2a954e2b6ee0ff5b"
   }
  }
 },
 "nbformat": 4,
 "nbformat_minor": 2
}
