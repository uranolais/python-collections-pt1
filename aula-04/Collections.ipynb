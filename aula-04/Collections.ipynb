{
 "cells": [
  {
   "cell_type": "code",
   "execution_count": null,
   "metadata": {},
   "outputs": [],
   "source": [
    "class ContaSalario:\n",
    "    def __init__(self,codigo):\n",
    "        self._codigo = codigo\n",
    "        self._saldo = 0\n",
    "    def __eq__(self, outro):\n",
    "        if type(outro) != ContaSalario:\n",
    "            return False\n",
    "        return self._codigo == outro._codigo and self._saldo == outro._saldo\n",
    "\n",
    "    def deposita(self,valor):\n",
    "        self._saldo += valor\n",
    "    def __str__(self):\n",
    "        return \"(>>Código {} Saldo {}<<)\".format(self._codigo, self._saldo)\n",
    "\n",
    "class ContaMultiploSalario(ContaSalario):\n",
    "    pass\n",
    "\n",
    "conta1 = ContaSalario(37)\n",
    "print(conta1)\n",
    "conta2 = ContaSalario(37)\n",
    "print(conta2)\n",
    "# conta1 == conta2 é false (memoria diferente)\n",
    "conta1 == conta2 #é true, graças ao __eq__\n",
    "print(isinstance(ContaSalario(34), ContaSalario))\n"
   ]
  }
 ],
 "metadata": {
  "kernelspec": {
   "display_name": "Python 3",
   "language": "python",
   "name": "python3"
  },
  "language_info": {
   "codemirror_mode": {
    "name": "ipython",
    "version": 3
   },
   "file_extension": ".py",
   "mimetype": "text/x-python",
   "name": "python",
   "nbconvert_exporter": "python",
   "pygments_lexer": "ipython3",
   "version": "3.10.8 (tags/v3.10.8:aaaf517, Oct 11 2022, 16:50:30) [MSC v.1933 64 bit (AMD64)]"
  },
  "orig_nbformat": 4,
  "vscode": {
   "interpreter": {
    "hash": "6c366ef536ff4611b0ac29bb2c553d3a1821187d7d4be00f2a954e2b6ee0ff5b"
   }
  }
 },
 "nbformat": 4,
 "nbformat_minor": 2
}
