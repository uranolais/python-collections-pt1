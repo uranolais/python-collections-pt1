{
 "cells": [
  {
   "cell_type": "code",
   "execution_count": null,
   "metadata": {},
   "outputs": [],
   "source": [
    "from functools import total_ordering\n",
    "\n",
    "@total_ordering\n",
    "class ContaSalario:\n",
    "  \n",
    "    def __init__(self, codigo):\n",
    "        self._codigo = codigo\n",
    "        self._saldo = 0\n",
    "    \n",
    "    def __eq__(self, outro):\n",
    "        if type(outro) != ContaSalario:\n",
    "            return False\n",
    "        return self._codigo == outro._codigo and self._saldo == outro._saldo\n",
    "  \n",
    "    def __lt__(self, outro):\n",
    "        if self._saldo != outro._saldo:\n",
    "            return self._saldo < outro._saldo\n",
    "        return self._codigo < outro._codigo\n",
    "  \n",
    "    def deposita(self, valor):\n",
    "        self._saldo += valor\n",
    "    \n",
    "    def __str__(self):\n",
    "        return \"[>>Codigo {} Saldo {}<<]\".format(self._codigo, self._saldo)\n",
    "\n",
    "conta_do_guilherme = ContaSalario(1700)\n",
    "conta_do_guilherme.deposita(500)\n",
    "\n",
    "conta_da_daniela = ContaSalario(3)\n",
    "conta_da_daniela.deposita(1000)\n",
    "\n",
    "conta_do_paulo = ContaSalario(133)\n",
    "conta_do_paulo.deposita(500)\n",
    "\n",
    "contas = [conta_do_guilherme, conta_da_daniela, conta_do_paulo]"
   ]
  }
 ],
 "metadata": {
  "kernelspec": {
   "display_name": "Python 3",
   "language": "python",
   "name": "python3"
  },
  "language_info": {
   "name": "python",
   "version": "3.10.8 (tags/v3.10.8:aaaf517, Oct 11 2022, 16:50:30) [MSC v.1933 64 bit (AMD64)]"
  },
  "orig_nbformat": 4,
  "vscode": {
   "interpreter": {
    "hash": "6c366ef536ff4611b0ac29bb2c553d3a1821187d7d4be00f2a954e2b6ee0ff5b"
   }
  }
 },
 "nbformat": 4,
 "nbformat_minor": 2
}
