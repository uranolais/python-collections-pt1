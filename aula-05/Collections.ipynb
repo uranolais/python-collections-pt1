{
 "cells": [
  {
   "cell_type": "code",
   "execution_count": null,
   "metadata": {},
   "outputs": [],
   "source": [
    "idades = [15, 87, 65, 56, 32, 49, 37]\n",
    "\n",
    "for idade in idades:\n",
    "  print(idade)\n",
    "\n",
    "print(range(len(idades)))\n",
    "print(range(0, 8))\n",
    "\n",
    "for i in range(len(idades)):\n",
    "  #print(i)\n",
    "  print(i, idades[i])\n",
    "\n",
    "print(enumerate(idades)) #tipo enumerate\n",
    "print(type(range(len(idades))))\n",
    "print(list(enumerate(idades)))\n",
    "\n",
    "for valor in enumerate(idades):\n",
    "  print(valor)\n"
   ]
  },
  {
   "cell_type": "code",
   "execution_count": null,
   "metadata": {},
   "outputs": [],
   "source": [
    "idades = [15, 87, 65, 56, 32, 49, 37]\n",
    "\n",
    "for indice, idade in enumerate(idades):\n",
    "  print(indice, idade)\n",
    "\n",
    "for indice, idade in enumerate(idades): # unpacking da nossa tupla\n",
    "  print(indice, \"x\", idade)"
   ]
  },
  {
   "cell_type": "code",
   "execution_count": null,
   "metadata": {},
   "outputs": [],
   "source": [
    "usuarios = [\n",
    "    (\"Guilherme\", 37, 1981),\n",
    "    (\"Daniela\", 31, 1987),\n",
    "    (\"Paulo\", 39, 1979)\n",
    "]\n",
    "\n",
    "for nome, idade, nascimento in usuarios: # ja desempacotando\n",
    "  print(nome)\n",
    "\n",
    "for nome, _, _ in usuarios: # ja desempacotando, ignorando o resto com o \"_\"\n",
    "  print(nome)"
   ]
  }
 ],
 "metadata": {
  "kernelspec": {
   "display_name": "Python 3",
   "language": "python",
   "name": "python3"
  },
  "language_info": {
   "codemirror_mode": {
    "name": "ipython",
    "version": 3
   },
   "file_extension": ".py",
   "mimetype": "text/x-python",
   "name": "python",
   "nbconvert_exporter": "python",
   "pygments_lexer": "ipython3",
   "version": "3.10.8"
  },
  "orig_nbformat": 4,
  "vscode": {
   "interpreter": {
    "hash": "6c366ef536ff4611b0ac29bb2c553d3a1821187d7d4be00f2a954e2b6ee0ff5b"
   }
  }
 },
 "nbformat": 4,
 "nbformat_minor": 2
}
