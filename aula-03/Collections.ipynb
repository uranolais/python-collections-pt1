{
 "cells": [
  {
   "cell_type": "code",
   "execution_count": null,
   "metadata": {},
   "outputs": [],
   "source": [
    "class Conta:\n",
    "    def __init__(self,codigo):\n",
    "        self._codigo = codigo\n",
    "        self._saldo = 0\n",
    "    def deposita(self,valor):\n",
    "        self._saldo += valor\n",
    "    def __str__(self):\n",
    "        return \"(>>Código {} Saldo: {}<<)\".format(self._codigo, self._saldo)\n",
    "\n",
    "class ContaCorrente(Conta):\n",
    "    def passa_o_mes(self):\n",
    "        self._saldo -= 2\n",
    "class ContaPoupanca(Conta):\n",
    "    def passa_o_mes(self):\n",
    "        self._saldo *= 1.01\n",
    "        self._saldo -= 3\n",
    "\n",
    "conta16 = ContaCorrente(16)\n",
    "conta16.deposita(1000)\n",
    "conta16.passa_o_mes()\n",
    "print(conta16)\n",
    "\n",
    "conta17 = ContaPoupanca(17)\n",
    "conta17.deposita(1000)\n",
    "conta17.passa_o_mes()\n",
    "print(conta17)\n",
    "\n",
    "contas = [conta16,conta17]\n",
    "for conta in contas:\n",
    "    conta.passa_o_mes() #duck typing\n",
    "    print(conta)"
   ]
  },
  {
   "cell_type": "code",
   "execution_count": null,
   "metadata": {},
   "outputs": [],
   "source": [
    "import array as arr\n",
    "tipo_array = arr.array('d',[1,3.5])#tipo,lista\n",
    "print(tipo_array)\n",
    "\n"
   ]
  },
  {
   "cell_type": "code",
   "execution_count": null,
   "metadata": {},
   "outputs": [],
   "source": [
    "#!pip install numpy\n",
    "import numpy as np #lembrar de ter um pip install numpy\n",
    "\n",
    "numeros = np.array([1,3.5])\n",
    "print(numeros)\n",
    "numeros = numeros + 3 #adiciona 3 em todos os numeros da lista\n",
    "print(numeros)"
   ]
  },
  {
   "cell_type": "code",
   "execution_count": null,
   "metadata": {},
   "outputs": [],
   "source": [
    "from abc import ABCMeta, abstractmethod\n",
    "\n",
    "class Conta(metaclass=ABCMeta):\n",
    "    def __init__(self,codigo):\n",
    "        self._codigo = codigo\n",
    "        self._saldo = 0\n",
    "    def deposita(self,valor):\n",
    "        self._saldo += valor\n",
    "    # def passa_o_mes(self):\n",
    "    #     raise NotImplementedError\n",
    "    @abstractmethod\n",
    "    def passa_o_mes(self):\n",
    "        pass\n",
    "    def __str__(self):\n",
    "        return \"(>>Código {} Saldo: {}<<)\".format(self._codigo, self._saldo)\n",
    "\n",
    "class ContaCorrente(Conta):\n",
    "    def passa_o_mes(self):\n",
    "        self._saldo -= 2\n",
    "class ContaPoupanca(Conta):\n",
    "    def passa_o_mes(self):\n",
    "        self._saldo *= 1.01\n",
    "        self._saldo -= 3\n",
    "class ContaInvestimento(Conta):\n",
    "    pass\n"
   ]
  }
 ],
 "metadata": {
  "kernelspec": {
   "display_name": "Python 3",
   "language": "python",
   "name": "python3"
  },
  "language_info": {
   "codemirror_mode": {
    "name": "ipython",
    "version": 3
   },
   "file_extension": ".py",
   "mimetype": "text/x-python",
   "name": "python",
   "nbconvert_exporter": "python",
   "pygments_lexer": "ipython3",
   "version": "3.10.8"
  },
  "orig_nbformat": 4,
  "vscode": {
   "interpreter": {
    "hash": "6c366ef536ff4611b0ac29bb2c553d3a1821187d7d4be00f2a954e2b6ee0ff5b"
   }
  }
 },
 "nbformat": 4,
 "nbformat_minor": 2
}
